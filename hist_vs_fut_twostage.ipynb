{
 "cells": [
  {
   "cell_type": "code",
   "execution_count": 1,
   "metadata": {},
   "outputs": [
    {
     "name": "stderr",
     "output_type": "stream",
     "text": [
      "2024-09-05 16:21:59.711702: I tensorflow/core/platform/cpu_feature_guard.cc:193] This TensorFlow binary is optimized with oneAPI Deep Neural Network Library (oneDNN) to use the following CPU instructions in performance-critical operations:  SSE4.1 SSE4.2 AVX AVX2 AVX512F AVX512_VNNI FMA\n",
      "To enable them in other operations, rebuild TensorFlow with the appropriate compiler flags.\n",
      "2024-09-05 16:21:59.806054: I tensorflow/core/util/port.cc:104] oneDNN custom operations are on. You may see slightly different numerical results due to floating-point round-off errors from different computation orders. To turn them off, set the environment variable `TF_ENABLE_ONEDNN_OPTS=0`.\n"
     ]
    },
    {
     "data": {
      "text/plain": [
       "''"
      ]
     },
     "execution_count": 1,
     "metadata": {},
     "output_type": "execute_result"
    }
   ],
   "source": [
    "%load_ext autoreload\n",
    "%autoreload 2\n",
    "%matplotlib inline\n",
    "\n",
    "import matplotlib.pyplot as plt\n",
    "plt.rcParams['font.family'] = 'Myriad Pro'\n",
    "import matplotlib as mpl\n",
    "mpl.rcParams['figure.dpi'] = 600\n",
    "\n",
    "import numpy as np\n",
    "import scipy.stats as stats\n",
    "\n",
    "from scipy.stats import kstest, cramervonmises\n",
    "import tensorflow as tf\n",
    "import tensorflow_probability as tfp\n",
    "import pykrige.kriging_tools as kt\n",
    "from pykrige.ok import OrdinaryKriging\n",
    "import time\n",
    "\n",
    "from ipcc_colormap import *\n",
    "from utils import *\n",
    "\n",
    "from matplotlib import gridspec\n",
    "from matplotlib.colorbar import ColorbarBase\n",
    "\n",
    "import pickle\n",
    "\n",
    "coastline = gpd.read_file('/home/mizu_home/xp53/nas/home/coastlines-split-SGregion/lines.shp')\n",
    "mask = np.loadtxt('mask.txt')\n",
    "\n",
    "ipcc_blue = (112.0/255, 160.0/255, 205.0/255, 1.0)\n",
    "ipcc_orange = (196.0/255, 121.0/255, 0.0/255, 1.0)\n",
    "\n",
    "tmp_cmap = ipcc_cmap()\n",
    "tmp_cmap.read_rgb_data_from_excel()\n",
    ";"
   ]
  },
  {
   "cell_type": "code",
   "execution_count": 2,
   "metadata": {},
   "outputs": [],
   "source": [
    "# DATA PREPARATION\n",
    "# the station-based rainfall data is already organized in a N by P matrix\n",
    "rain_obs = np.loadtxt('data/sta_monthly.csv')\n",
    "\n",
    "# the simulated rainfall data is reshaped to a 2d matrix of size N by (W x L)\n",
    "rain_sim_flatten = np.loadtxt('data/wrf_monthly.csv')\n",
    "rain_sim = rain_sim_flatten.reshape(rain_sim_flatten.shape[0], 120, 160)\n",
    "\n",
    "# sim_sel constains a P by 4 matrix\n",
    "# the first two columns are the row and column indices of grids corresponding to the stations\n",
    "# the last two columns are the lons and lats of grids corresponding to the stations\n",
    "sim_sel = np.loadtxt('data/wrf_loc.csv')\n",
    "sim_idx = sim_sel[:, :2].astype(int)\n",
    "\n",
    "# select simulated rainfall at stations\n",
    "wrf_sta = np.array([rain_sim[:, i, j] for (i, j) in sim_idx]).T\n",
    "\n",
    "# lats and lons of all grids are stored in a 2d matrix of 2 by (W x L)\n",
    "# the first row is lons and the second row is lats\n",
    "longlat = np.loadtxt('data/lonlat.txt')\n",
    "lons = longlat[0, :].reshape(120, 160)\n",
    "lats = longlat[1, :].reshape(120, 160)\n",
    "\n",
    "# read station lons (3rd column) and lats (4th column)\n",
    "sta_loc = np.genfromtxt('data/sta_lookup_new.csv', delimiter=',')[:, 2:]\n",
    "\n",
    "# read wrf simulated rainfall forced by cmip6 future climate\n",
    "cmip_rain_f = np.loadtxt('data/wrf_monthly_cmip.txt')[-40:, :]\n",
    "cmip_rain0 = cmip_rain_f.reshape(cmip_rain_f.shape[0], 12, 120, 160)\n",
    "cmip_rain = np.zeros(cmip_rain0.shape)\n",
    "cmip_rain[:, 0:6, :, :] = cmip_rain0[:, 6:12, :, :]\n",
    "cmip_rain[:, 6:12, :, :] = cmip_rain0[:, 0:6, :, :]\n",
    "cmip_rain_flatten = np.reshape(cmip_rain, (40, 12, 120*160))\n",
    "wrf_sta_fut = np.zeros((40, 12, sim_idx.shape[0]))\n",
    "for idx, (i, j) in enumerate(sim_idx):\n",
    "    wrf_sta_fut[:, :, idx] = cmip_rain[:, :, i, j]\n"
   ]
  },
  {
   "cell_type": "code",
   "execution_count": 10,
   "metadata": {},
   "outputs": [
    {
     "name": "stdout",
     "output_type": "stream",
     "text": [
      "month 0 takes 17.700406 seconds\n",
      "month 1 takes 17.508697 seconds\n",
      "month 2 takes 17.804149 seconds\n",
      "month 3 takes 17.089255 seconds\n",
      "month 4 takes 17.290958 seconds\n",
      "month 5 takes 17.286037 seconds\n",
      "month 6 takes 17.292889 seconds\n",
      "month 7 takes 17.200429 seconds\n",
      "month 8 takes 17.264842 seconds\n",
      "month 9 takes 17.446227 seconds\n",
      "month 10 takes 17.308879 seconds\n",
      "month 11 takes 17.113224 seconds\n"
     ]
    }
   ],
   "source": [
    "# interpolate future rainfall had the same obervations been made at the stations\n",
    "sub_name = ['(a) Jan', '(b) Feb', '(c) Mar', '(d) Apr', '(e) May', '(f) Jun', \n",
    "            '(g) Jul', '(h) Aug', '(i) Sep', '(j) Oct', '(k) Nov', '(l) Dec']\n",
    "pkl_file = open('his_rain_interpolations_twostage.pkl', 'rb')\n",
    "rain_h = pickle.load(pkl_file)\n",
    "gpr_ = gp_interpolator(P = sim_idx.shape[0])\n",
    "fig, ax = plt.subplots(nrows = 4, ncols = 3, figsize = (9.5, 12))\n",
    "\n",
    "for i in range(12):\n",
    "    t1 = time.time()\n",
    "    gpr_.read_rainfall(rain_obs[i::12, :], wrf_sta_fut[:, i, :])\n",
    "    gpr_.sn_converge()\n",
    "    r1, _ = gpr_.predict(cmip_rain_flatten[:, i, :])\n",
    "    r1 = np.reshape(r1.T, (40, 120, 160))\n",
    "\n",
    "    ridx, cidx = divmod(i, 3) \n",
    "    tmp_obs = np.mean(rain_obs[i::12, :], axis = 1)\n",
    "    tmp_rf = np.nanmean(np.multiply(r1, mask), axis = (1, 2))\n",
    "    tmp_rh = np.nanmean(np.multiply(rain_h[i::12,:,:], mask), axis = (1, 2))\n",
    "    ax[ridx][cidx].scatter(tmp_obs, tmp_rh, s = 40, color = ipcc_blue, label = 'ERA5', alpha = 0.67, edgecolors = 'None')\n",
    "    ax[ridx][cidx].scatter(tmp_obs, tmp_rf, s = 40, color = ipcc_orange, label = 'CMIP6', alpha = 0.67, edgecolors = 'None')\n",
    "    ax[ridx][cidx].axline([0, 0], [1, 1], color = 'black', linestyle = '--')\n",
    "    print('month %d takes %f seconds' % (i, time.time() - t1))\n",
    "    x_min, x_max = np.min(tmp_obs), np.max(tmp_obs)\n",
    "    ax[ridx][cidx].set_xlim([np.max([0, x_min - 20]), x_max + 20])\n",
    "    ax[ridx][cidx].set_ylim([np.max([0, x_min - 20]), x_max + 20])\n",
    "    # set tick gap to 100\n",
    "    ax[ridx][cidx].xaxis.set_major_locator(mticker.MultipleLocator(100))\n",
    "    ax[ridx][cidx].yaxis.set_major_locator(mticker.MultipleLocator(100))\n",
    "    # use a square plot\n",
    "    ax[ridx][cidx].set_aspect('equal', adjustable='box')\n",
    "    ax[ridx][cidx].text(0.05, 0.95, f'{sub_name[i]}', transform=ax[ridx][cidx].transAxes, \n",
    "                         fontsize=10, verticalalignment='top', bbox=dict(facecolor='white', alpha=0.6))\n",
    "\n",
    "    if i == 11:\n",
    "        ax[ridx][cidx].legend(loc = 'lower right')\n",
    "fig.text(0.5, 0.04, 'Arithmetic Average of Rainfall [mm]', ha='center', fontsize=14)\n",
    "fig.text(0.04, 0.5, 'Spatial Average of Rainfall [mm]', va='center', rotation='vertical', fontsize=14)\n",
    "\n",
    "# Adjust layout and save the figure\n",
    "fig.tight_layout(rect=[0.05, 0.05, 1, 1])  # Adjust layout for space around text\n",
    "fig.savefig('figures_two_stage/fut_his_comp_twostage.png', dpi = 600, bbox_inches = 'tight')\n"
   ]
  }
 ],
 "metadata": {
  "kernelspec": {
   "display_name": "wrfplot",
   "language": "python",
   "name": "python3"
  },
  "language_info": {
   "codemirror_mode": {
    "name": "ipython",
    "version": 3
   },
   "file_extension": ".py",
   "mimetype": "text/x-python",
   "name": "python",
   "nbconvert_exporter": "python",
   "pygments_lexer": "ipython3",
   "version": "3.8.16"
  }
 },
 "nbformat": 4,
 "nbformat_minor": 2
}
