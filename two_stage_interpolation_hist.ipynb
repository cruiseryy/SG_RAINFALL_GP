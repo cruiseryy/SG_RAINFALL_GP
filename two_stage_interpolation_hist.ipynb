{
 "cells": [
  {
   "cell_type": "code",
   "execution_count": 1,
   "metadata": {},
   "outputs": [
    {
     "name": "stderr",
     "output_type": "stream",
     "text": [
      "2024-09-05 11:10:03.792496: I tensorflow/core/platform/cpu_feature_guard.cc:193] This TensorFlow binary is optimized with oneAPI Deep Neural Network Library (oneDNN) to use the following CPU instructions in performance-critical operations:  SSE4.1 SSE4.2 AVX AVX2 AVX512F AVX512_VNNI FMA\n",
      "To enable them in other operations, rebuild TensorFlow with the appropriate compiler flags.\n",
      "2024-09-05 11:10:03.879585: I tensorflow/core/util/port.cc:104] oneDNN custom operations are on. You may see slightly different numerical results due to floating-point round-off errors from different computation orders. To turn them off, set the environment variable `TF_ENABLE_ONEDNN_OPTS=0`.\n"
     ]
    },
    {
     "data": {
      "text/plain": [
       "''"
      ]
     },
     "execution_count": 1,
     "metadata": {},
     "output_type": "execute_result"
    }
   ],
   "source": [
    "%load_ext autoreload\n",
    "%autoreload 2\n",
    "%matplotlib inline\n",
    "\n",
    "import matplotlib.pyplot as plt\n",
    "plt.rcParams['font.family'] = 'Myriad Pro'\n",
    "import matplotlib as mpl\n",
    "mpl.rcParams['figure.dpi'] = 600\n",
    "\n",
    "import numpy as np\n",
    "import scipy.stats as stats\n",
    "\n",
    "from scipy.stats import kstest, cramervonmises\n",
    "import tensorflow as tf\n",
    "import tensorflow_probability as tfp\n",
    "import pykrige.kriging_tools as kt\n",
    "from pykrige.ok import OrdinaryKriging\n",
    "import time\n",
    "\n",
    "from ipcc_colormap import *\n",
    "from utils import *\n",
    "\n",
    "from matplotlib import gridspec\n",
    "from matplotlib.colorbar import ColorbarBase\n",
    "\n",
    "import pickle\n",
    "\n",
    "coastline = gpd.read_file('/home/mizu_home/xp53/nas/home/coastlines-split-SGregion/lines.shp')\n",
    "mask = np.loadtxt('mask.txt')\n",
    "\n",
    "ipcc_blue = (112.0/255, 160.0/255, 205.0/255, 1.0)\n",
    "ipcc_orange = (196.0/255, 121.0/255, 0.0/255, 1.0)\n",
    "\n",
    "tmp_cmap = ipcc_cmap()\n",
    "tmp_cmap.read_rgb_data_from_excel()\n",
    ";"
   ]
  },
  {
   "cell_type": "code",
   "execution_count": 2,
   "metadata": {},
   "outputs": [],
   "source": [
    "# DATA PREPARATION\n",
    "# the station-based rainfall data is already organized in a N by P matrix\n",
    "rain_obs = np.loadtxt('data/sta_monthly.csv')\n",
    "\n",
    "# the simulated rainfall data is reshaped to a 2d matrix of size N by (W x L)\n",
    "rain_sim_flatten = np.loadtxt('data/wrf_monthly.csv')\n",
    "rain_sim = rain_sim_flatten.reshape(rain_sim_flatten.shape[0], 120, 160)\n",
    "\n",
    "# sim_sel constains a P by 4 matrix\n",
    "# the first two columns are the row and column indices of grids corresponding to the stations\n",
    "# the last two columns are the lons and lats of grids corresponding to the stations\n",
    "sim_sel = np.loadtxt('data/wrf_loc.csv')\n",
    "sim_idx = sim_sel[:, :2].astype(int)\n",
    "\n",
    "# select simulated rainfall at stations\n",
    "wrf_sta = np.array([rain_sim[:, i, j] for (i, j) in sim_idx]).T\n",
    "\n",
    "# lats and lons of all grids are stored in a 2d matrix of 2 by (W x L)\n",
    "# the first row is lons and the second row is lats\n",
    "longlat = np.loadtxt('data/lonlat.txt')\n",
    "lons = longlat[0, :].reshape(120, 160)\n",
    "lats = longlat[1, :].reshape(120, 160)\n",
    "\n",
    "# read station lons (3rd column) and lats (4th column)\n",
    "sta_loc = np.genfromtxt('data/sta_lookup_new.csv', delimiter=',')[:, 2:]\n"
   ]
  },
  {
   "cell_type": "code",
   "execution_count": 14,
   "metadata": {},
   "outputs": [
    {
     "name": "stdout",
     "output_type": "stream",
     "text": [
      "Time taken:  20.043076753616333\n",
      "Time taken:  20.0128390789032\n",
      "Time taken:  19.779672861099243\n",
      "Time taken:  20.5935640335083\n",
      "Time taken:  20.708858251571655\n",
      "Time taken:  21.261730909347534\n",
      "Time taken:  21.528464794158936\n",
      "Time taken:  21.0612735748291\n",
      "Time taken:  20.906059980392456\n",
      "Time taken:  20.985111713409424\n",
      "Time taken:  20.963038444519043\n",
      "Time taken:  20.735881567001343\n"
     ]
    }
   ],
   "source": [
    "sub_name = ['(a) Jan', '(b) Feb', '(c) Mar', '(d) Apr', '(e) May', '(f) Jun', \n",
    "            '(g) Jul', '(h) Aug', '(i) Sep', '(j) Oct', '(k) Nov', '(l) Dec']\n",
    "rain1 = np.zeros((40*12, 120, 160))\n",
    "rain2 = np.zeros((40*12, 120, 160))\n",
    "ru1 = np.zeros((12, 120, 160))\n",
    "ru2 = np.zeros((12, 120, 160))\n",
    "# interpolate to all grids\n",
    "gpr_ = gp_interpolator(P = sim_idx.shape[0])\n",
    "\n",
    "sg_plotter = sg_map_plotter(lons, lats, coastline)\n",
    "cmap = tmp_cmap.get_ipcc_cmap('seq', 'prec', 20) # 'prec' for precip MAP \n",
    "# cmap = tmp_cmap.get_ipcc_cmap('seq', 'temp', 20) # 'temp' for precip variance\n",
    "\n",
    "fig = plt.figure(figsize=(11, 10))\n",
    "gs = gridspec.GridSpec(4, 3, height_ratios=[1,1,1,1], bottom=0.1, top=0.95, left=0.05, right=0.95,\n",
    "                       wspace=0.05, hspace=0.05)  # Leave space at the bottom for the colorbar\n",
    "\n",
    "axes = [plt.subplot(gs[i, j], projection=crs.PlateCarree()) for i in range(4) for j in range(3)]\n",
    "\n",
    "for i, ax in enumerate(axes):\n",
    "    t1 = time.time()\n",
    "    gpr_.read_rainfall(rain_obs[i::12, :], wrf_sta[i::12, :])\n",
    "    gpr_.sn_converge()\n",
    "    r1, var1 = gpr_.predict(rain_sim_flatten[i::12, :])\n",
    "    r1 = np.reshape(r1.T, (40, 120, 160))\n",
    "    var1 = np.reshape(np.diag(var1), (120, 160))\n",
    "\n",
    "    x1, _ = gpr_.predict(gpr_.wrf_sta)\n",
    "    ex = rain_obs[i::12, :] - x1.T\n",
    "    pause = 1\n",
    "\n",
    "    r2 = np.zeros((40, 120, 160))\n",
    "    var_y = np.zeros((120, 160))\n",
    "    for k in range(40):\n",
    "        tdata = np.concatenate((sta_loc, ex[k, :][:, None]), axis = 1)\n",
    "        OK = OrdinaryKriging(\n",
    "                tdata[:, 0], tdata[:, 1], tdata[:, 2],\n",
    "                variogram_model = 'gaussian'\n",
    "            )\n",
    "        ey, tmp_var = OK.execute('points', lons.flatten(), lats.flatten())\n",
    "        var_y += 1/40 * tmp_var.reshape(120, 160)\n",
    "        r2[k, :, :] = r1[k, :, :] + ey.reshape(120, 160)\n",
    "    r1[r1 < 0] = 0\n",
    "    r2[r2 < 0] = 0\n",
    "\n",
    "    rain1[i::12, :, :] = r1\n",
    "    rain2[i::12, :, :] = r2\n",
    "    ru1[i, :, :] = np.sqrt(var1)\n",
    "    ru2[i, :, :] = np.sqrt(var1 + var_y)\n",
    "\n",
    "    sg_plotter.plot_(ax, np.mean(rain1[i::12, :, :], axis = 0), cmap = cmap, vmin = 0, vmax = 400)\n",
    "    # sg_plotter.plot_(ax, ru2[i, :, :], cmap = cmap, vmin = 0, vmax = 300) \n",
    "    sg_plotter.plot_scatter(ax, sta_loc, size = 15)\n",
    "    ax.text(0.03, 0.95, f'{sub_name[i]}', transform=ax.transAxes, \n",
    "                        fontsize=10, verticalalignment='top', bbox=dict(facecolor='white', alpha=0.6))\n",
    "    print('Time taken: ', time.time() - t1)\n",
    "\n",
    "# Adjust the colorbar placement\n",
    "cbar_ax = fig.add_axes([0.06, 0.07, 0.88, 0.015])  # Position: [left, bottom, width, height]\n",
    "bounds = np.linspace(0, 400, 21) # change to 400 when plotting precipitation MAP\n",
    "norm = mpl.colors.BoundaryNorm(bounds, cmap.N)\n",
    "cb = ColorbarBase(cbar_ax, cmap=cmap, norm=norm, orientation='horizontal')\n",
    "cb.ax.tick_params(labelsize=12)\n",
    "# make label font larger and bold\n",
    "cb.set_label('Rainfall Climatology [mm]', fontsize=12, fontweight='bold')\n",
    "\n",
    "fig.savefig('figures_two_stage/poster_mean_his.pdf')\n"
   ]
  },
  {
   "cell_type": "code",
   "execution_count": 12,
   "metadata": {},
   "outputs": [
    {
     "name": "stdout",
     "output_type": "stream",
     "text": [
      "Time taken:  977.9311587810516\n",
      "Time taken:  978.5520622730255\n",
      "Time taken:  979.2050788402557\n",
      "Time taken:  980.3260123729706\n",
      "Time taken:  981.221244096756\n",
      "Time taken:  982.2263877391815\n",
      "Time taken:  983.3435702323914\n",
      "Time taken:  984.5792937278748\n",
      "Time taken:  985.9376404285431\n",
      "Time taken:  987.410266160965\n",
      "Time taken:  988.9763369560242\n",
      "Time taken:  990.6451985836029\n"
     ]
    }
   ],
   "source": [
    "fig = plt.figure(figsize=(11, 10))\n",
    "gs = gridspec.GridSpec(4, 3, height_ratios=[1,1,1,1], bottom=0.1, top=0.95, left=0.05, right=0.95,\n",
    "                       wspace=0.05, hspace=0.05)  # Leave space at the bottom for the colorbar\n",
    "\n",
    "axes = [plt.subplot(gs[i, j], projection=crs.PlateCarree()) for i in range(4) for j in range(3)]\n",
    "\n",
    "for i, ax in enumerate(axes):\n",
    "    # sg_plotter.plot_(ax, np.mean(rain2[i::12, :, :], axis = 0), cmap = cmap, vmin = 0, vmax = 400)\n",
    "    sg_plotter.plot_(ax, ru1[i, :, :], cmap = cmap, vmin = 0, vmax = 300)\n",
    "    sg_plotter.plot_scatter(ax, sta_loc, size = 15)\n",
    "    print('Time taken: ', time.time() - t1)\n",
    "    ax.text(0.03, 0.95, f'{sub_name[i]}', transform=ax.transAxes, \n",
    "                        fontsize=10, verticalalignment='top', bbox=dict(facecolor='white', alpha=0.6))\n",
    "\n",
    "# Adjust the colorbar placement\n",
    "cbar_ax = fig.add_axes([0.06, 0.07, 0.88, 0.015])  # Position: [left, bottom, width, height]\n",
    "bounds = np.linspace(0, 300, 21)\n",
    "norm = mpl.colors.BoundaryNorm(bounds, cmap.N)\n",
    "cb = ColorbarBase(cbar_ax, cmap=cmap, norm=norm, orientation='horizontal')\n",
    "cb.ax.tick_params(labelsize=12)\n",
    "# make label font larger and bold\n",
    "cb.set_label('Rainfall Sigma [mm]', fontsize=12, fontweight='bold')\n",
    "\n",
    "fig.savefig('figures_two_stage/poster_var_his.pdf')"
   ]
  },
  {
   "cell_type": "code",
   "execution_count": 10,
   "metadata": {},
   "outputs": [
    {
     "name": "stdout",
     "output_type": "stream",
     "text": [
      "Time taken:  917.5630729198456\n",
      "Time taken:  918.1673023700714\n",
      "Time taken:  918.791820526123\n",
      "Time taken:  919.5234088897705\n",
      "Time taken:  920.3870387077332\n",
      "Time taken:  921.3950395584106\n",
      "Time taken:  922.5139758586884\n",
      "Time taken:  923.7449200153351\n",
      "Time taken:  925.0949375629425\n",
      "Time taken:  926.5569689273834\n",
      "Time taken:  928.1199643611908\n",
      "Time taken:  929.7717862129211\n"
     ]
    }
   ],
   "source": [
    "fig = plt.figure(figsize=(11, 10))\n",
    "gs = gridspec.GridSpec(4, 3, height_ratios=[1,1,1,1], bottom=0.1, top=0.95, left=0.05, right=0.95,\n",
    "                       wspace=0.05, hspace=0.05)  # Leave space at the bottom for the colorbar\n",
    "\n",
    "axes = [plt.subplot(gs[i, j], projection=crs.PlateCarree()) for i in range(4) for j in range(3)]\n",
    "\n",
    "for i, ax in enumerate(axes):\n",
    "    # sg_plotter.plot_(ax, np.mean(rain2[i::12, :, :], axis = 0), cmap = cmap, vmin = 0, vmax = 400)\n",
    "    sg_plotter.plot_(ax, ru2[i, :, :] - ru1[i, :, :], cmap = cmap, vmin = 0, vmax = 100)\n",
    "    sg_plotter.plot_scatter(ax, sta_loc, size = 15)\n",
    "    ax.text(0.03, 0.95, f'{sub_name[i]}', transform=ax.transAxes, \n",
    "                        fontsize=10, verticalalignment='top', bbox=dict(facecolor='white', alpha=0.6))\n",
    "    print('Time taken: ', time.time() - t1)\n",
    "\n",
    "# Adjust the colorbar placement\n",
    "cbar_ax = fig.add_axes([0.06, 0.07, 0.88, 0.015])  # Position: [left, bottom, width, height]\n",
    "bounds = np.linspace(0, 100, 21)\n",
    "norm = mpl.colors.BoundaryNorm(bounds, cmap.N)\n",
    "cb = ColorbarBase(cbar_ax, cmap=cmap, norm=norm, orientation='horizontal')\n",
    "cb.ax.tick_params(labelsize=12)\n",
    "# make label font larger and bold\n",
    "cb.set_label('Rainfall Sigma [mm]', fontsize=12, fontweight='bold')\n",
    "\n",
    "fig.savefig('figures_two_stage/var_diff.pdf')"
   ]
  },
  {
   "cell_type": "code",
   "execution_count": 6,
   "metadata": {},
   "outputs": [],
   "source": [
    "output = open('his_rain_interpolations_twostage.pkl', 'wb')\n",
    "pickle.dump(rain2, output)\n",
    "output.close()\n"
   ]
  }
 ],
 "metadata": {
  "kernelspec": {
   "display_name": "wrfplot",
   "language": "python",
   "name": "python3"
  },
  "language_info": {
   "codemirror_mode": {
    "name": "ipython",
    "version": 3
   },
   "file_extension": ".py",
   "mimetype": "text/x-python",
   "name": "python",
   "nbconvert_exporter": "python",
   "pygments_lexer": "ipython3",
   "version": "3.8.16"
  }
 },
 "nbformat": 4,
 "nbformat_minor": 2
}
