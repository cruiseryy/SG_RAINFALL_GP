{
 "cells": [
  {
   "cell_type": "code",
   "execution_count": 1,
   "metadata": {},
   "outputs": [
    {
     "name": "stderr",
     "output_type": "stream",
     "text": [
      "2024-09-04 22:17:25.251608: I tensorflow/core/platform/cpu_feature_guard.cc:193] This TensorFlow binary is optimized with oneAPI Deep Neural Network Library (oneDNN) to use the following CPU instructions in performance-critical operations:  SSE4.1 SSE4.2 AVX AVX2 AVX512F AVX512_VNNI FMA\n",
      "To enable them in other operations, rebuild TensorFlow with the appropriate compiler flags.\n",
      "2024-09-04 22:17:25.317372: I tensorflow/core/util/port.cc:104] oneDNN custom operations are on. You may see slightly different numerical results due to floating-point round-off errors from different computation orders. To turn them off, set the environment variable `TF_ENABLE_ONEDNN_OPTS=0`.\n"
     ]
    },
    {
     "data": {
      "text/plain": [
       "''"
      ]
     },
     "execution_count": 1,
     "metadata": {},
     "output_type": "execute_result"
    }
   ],
   "source": [
    "%load_ext autoreload\n",
    "%autoreload 2\n",
    "%matplotlib inline\n",
    "\n",
    "import matplotlib.pyplot as plt\n",
    "plt.rcParams['font.family'] = 'Myriad Pro'\n",
    "import matplotlib as mpl\n",
    "mpl.rcParams['figure.dpi'] = 600\n",
    "\n",
    "import numpy as np\n",
    "import scipy.stats as stats\n",
    "\n",
    "from scipy.stats import kstest, cramervonmises\n",
    "import tensorflow as tf\n",
    "import tensorflow_probability as tfp\n",
    "import pykrige.kriging_tools as kt\n",
    "from pykrige.ok import OrdinaryKriging\n",
    "import time\n",
    "\n",
    "from ipcc_colormap import *\n",
    "from utils import *\n",
    "\n",
    "from matplotlib import gridspec\n",
    "from matplotlib.colorbar import ColorbarBase\n",
    "\n",
    "import pickle\n",
    "\n",
    "coastline = gpd.read_file('/home/mizu_home/xp53/nas/home/coastlines-split-SGregion/lines.shp')\n",
    "mask = np.loadtxt('mask.txt')\n",
    "\n",
    "ipcc_blue = (112.0/255, 160.0/255, 205.0/255, 1.0)\n",
    "ipcc_orange = (196.0/255, 121.0/255, 0.0/255, 1.0)\n",
    "\n",
    "tmp_cmap = ipcc_cmap()\n",
    "tmp_cmap.read_rgb_data_from_excel()\n",
    ";"
   ]
  },
  {
   "cell_type": "code",
   "execution_count": 2,
   "metadata": {},
   "outputs": [],
   "source": [
    "# DATA PREPARATION\n",
    "# the station-based rainfall data is already organized in a N by P matrix\n",
    "rain_obs = np.loadtxt('data/sta_monthly.csv')\n",
    "\n",
    "# the simulated rainfall data is reshaped to a 2d matrix of size N by (W x L)\n",
    "rain_sim_flatten = np.loadtxt('data/wrf_monthly.csv')\n",
    "rain_sim = rain_sim_flatten.reshape(rain_sim_flatten.shape[0], 120, 160)\n",
    "\n",
    "# sim_sel constains a P by 4 matrix\n",
    "# the first two columns are the row and column indices of grids corresponding to the stations\n",
    "# the last two columns are the lons and lats of grids corresponding to the stations\n",
    "sim_sel = np.loadtxt('data/wrf_loc.csv')\n",
    "sim_idx = sim_sel[:, :2].astype(int)\n",
    "\n",
    "# select simulated rainfall at stations\n",
    "wrf_sta = np.array([rain_sim[:, i, j] for (i, j) in sim_idx]).T\n",
    "\n",
    "# lats and lons of all grids are stored in a 2d matrix of 2 by (W x L)\n",
    "# the first row is lons and the second row is lats\n",
    "longlat = np.loadtxt('data/lonlat.txt')\n",
    "lons = longlat[0, :].reshape(120, 160)\n",
    "lats = longlat[1, :].reshape(120, 160)\n",
    "\n",
    "# read station lons (3rd column) and lats (4th column)\n",
    "sta_loc = np.genfromtxt('data/sta_lookup_new.csv', delimiter=',')[:, 2:]\n"
   ]
  },
  {
   "cell_type": "code",
   "execution_count": 3,
   "metadata": {},
   "outputs": [
    {
     "name": "stdout",
     "output_type": "stream",
     "text": [
      "Time taken:  19.956090450286865\n",
      "Time taken:  19.977900981903076\n",
      "Time taken:  19.73865580558777\n",
      "Time taken:  20.74614953994751\n",
      "Time taken:  21.007766246795654\n",
      "Time taken:  21.69706416130066\n",
      "Time taken:  21.679450750350952\n",
      "Time taken:  20.96605348587036\n",
      "Time taken:  20.57366633415222\n",
      "Time taken:  21.0658278465271\n",
      "Time taken:  21.149197101593018\n",
      "Time taken:  21.007020235061646\n"
     ]
    }
   ],
   "source": [
    "rain1 = np.zeros((40*12, 120, 160))\n",
    "rain2 = np.zeros((40*12, 120, 160))\n",
    "ru1 = np.zeros((12, 120, 160))\n",
    "ru2 = np.zeros((12, 120, 160))\n",
    "# interpolate to all grids\n",
    "gpr_ = gp_interpolator(P = sim_idx.shape[0])\n",
    "\n",
    "sg_plotter = sg_map_plotter(lons, lats, coastline)\n",
    "cmap = tmp_cmap.get_ipcc_cmap('seq', 'prec', 20)\n",
    "\n",
    "fig = plt.figure(figsize=(11, 10))\n",
    "gs = gridspec.GridSpec(4, 3, height_ratios=[1,1,1,1], bottom=0.1, top=0.95, left=0.05, right=0.95,\n",
    "                       wspace=0.05, hspace=0.05)  # Leave space at the bottom for the colorbar\n",
    "\n",
    "axes = [plt.subplot(gs[i, j], projection=crs.PlateCarree()) for i in range(4) for j in range(3)]\n",
    "\n",
    "for i, ax in enumerate(axes):\n",
    "    t1 = time.time()\n",
    "    gpr_.read_rainfall(rain_obs[i::12, :], wrf_sta[i::12, :])\n",
    "    gpr_.sn_converge()\n",
    "    r1, var1 = gpr_.predict(rain_sim_flatten[i::12, :])\n",
    "    r1 = np.reshape(r1.T, (40, 120, 160))\n",
    "    var1 = np.reshape(np.diag(var1), (120, 160))\n",
    "\n",
    "    x1, _ = gpr_.predict(gpr_.wrf_sta)\n",
    "    ex = rain_obs[i::12, :] - x1.T\n",
    "    pause = 1\n",
    "\n",
    "    r2 = np.zeros((40, 120, 160))\n",
    "    var_y = np.zeros((120, 160))\n",
    "    for k in range(40):\n",
    "        tdata = np.concatenate((sta_loc, ex[k, :][:, None]), axis = 1)\n",
    "        OK = OrdinaryKriging(\n",
    "                tdata[:, 0], tdata[:, 1], tdata[:, 2],\n",
    "                variogram_model = 'gaussian'\n",
    "            )\n",
    "        ey, tmp_var = OK.execute('points', lons.flatten(), lats.flatten())\n",
    "        var_y += 1/40 * tmp_var.reshape(120, 160)\n",
    "        r2[k, :, :] = r1[k, :, :] + ey.reshape(120, 160)\n",
    "    r1[r1 < 0] = 0\n",
    "    r2[r2 < 0] = 0\n",
    "\n",
    "    rain1[i::12, :, :] = r1\n",
    "    rain2[i::12, :, :] = r2\n",
    "    ru1[i, :, :] = np.sqrt(var1)\n",
    "    ru2[i, :, :] = np.sqrt(var1 + var_y)\n",
    "\n",
    "    # sg_plotter.plot_(ax, np.mean(rain2[i::12, :, :], axis = 0), cmap = cmap, vmin = 0, vmax = 400)\n",
    "    sg_plotter.plot_(ax, ru2[i, :, :], cmap = cmap, vmin = 0, vmax = 400)\n",
    "    sg_plotter.plot_scatter(ax, sta_loc, size = 15)\n",
    "    print('Time taken: ', time.time() - t1)\n",
    "\n",
    "# Adjust the colorbar placement\n",
    "cbar_ax = fig.add_axes([0.06, 0.07, 0.88, 0.015])  # Position: [left, bottom, width, height]\n",
    "bounds = np.linspace(0, 400, 21)\n",
    "norm = mpl.colors.BoundaryNorm(bounds, cmap.N)\n",
    "cb = ColorbarBase(cbar_ax, cmap=cmap, norm=norm, orientation='horizontal')\n",
    "cb.ax.tick_params(labelsize=12)\n",
    "# make label font larger and bold\n",
    "cb.set_label('Rainfall Climatology [mm]', fontsize=12, fontweight='bold')\n",
    "\n",
    "fig.savefig('figures_two_stage/poster_var_his_twostage.pdf')\n"
   ]
  },
  {
   "cell_type": "code",
   "execution_count": 4,
   "metadata": {},
   "outputs": [
    {
     "name": "stdout",
     "output_type": "stream",
     "text": [
      "Time taken:  110.28209257125854\n",
      "Time taken:  110.88883018493652\n",
      "Time taken:  111.698655128479\n",
      "Time taken:  112.4423258304596\n",
      "Time taken:  113.31625747680664\n",
      "Time taken:  114.33006715774536\n",
      "Time taken:  115.46774625778198\n",
      "Time taken:  116.71706652641296\n",
      "Time taken:  118.09439873695374\n",
      "Time taken:  119.58853888511658\n",
      "Time taken:  121.17671751976013\n",
      "Time taken:  122.86493277549744\n"
     ]
    }
   ],
   "source": [
    "fig = plt.figure(figsize=(11, 10))\n",
    "gs = gridspec.GridSpec(4, 3, height_ratios=[1,1,1,1], bottom=0.1, top=0.95, left=0.05, right=0.95,\n",
    "                       wspace=0.05, hspace=0.05)  # Leave space at the bottom for the colorbar\n",
    "\n",
    "axes = [plt.subplot(gs[i, j], projection=crs.PlateCarree()) for i in range(4) for j in range(3)]\n",
    "\n",
    "for i, ax in enumerate(axes):\n",
    "    # sg_plotter.plot_(ax, np.mean(rain2[i::12, :, :], axis = 0), cmap = cmap, vmin = 0, vmax = 400)\n",
    "    sg_plotter.plot_(ax, ru1[i, :, :], cmap = cmap, vmin = 0, vmax = 400)\n",
    "    sg_plotter.plot_scatter(ax, sta_loc, size = 15)\n",
    "    print('Time taken: ', time.time() - t1)\n",
    "\n",
    "# Adjust the colorbar placement\n",
    "cbar_ax = fig.add_axes([0.06, 0.07, 0.88, 0.015])  # Position: [left, bottom, width, height]\n",
    "bounds = np.linspace(0, 400, 21)\n",
    "norm = mpl.colors.BoundaryNorm(bounds, cmap.N)\n",
    "cb = ColorbarBase(cbar_ax, cmap=cmap, norm=norm, orientation='horizontal')\n",
    "cb.ax.tick_params(labelsize=12)\n",
    "# make label font larger and bold\n",
    "cb.set_label('Rainfall Climatology [mm]', fontsize=12, fontweight='bold')\n",
    "\n",
    "fig.savefig('figures_two_stage/poster_var_his.pdf')"
   ]
  }
 ],
 "metadata": {
  "kernelspec": {
   "display_name": "wrfplot",
   "language": "python",
   "name": "python3"
  },
  "language_info": {
   "codemirror_mode": {
    "name": "ipython",
    "version": 3
   },
   "file_extension": ".py",
   "mimetype": "text/x-python",
   "name": "python",
   "nbconvert_exporter": "python",
   "pygments_lexer": "ipython3",
   "version": "3.8.16"
  }
 },
 "nbformat": 4,
 "nbformat_minor": 2
}
