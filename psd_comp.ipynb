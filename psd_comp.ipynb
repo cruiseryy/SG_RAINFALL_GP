{
 "cells": [
  {
   "cell_type": "code",
   "execution_count": 2,
   "metadata": {},
   "outputs": [
    {
     "name": "stderr",
     "output_type": "stream",
     "text": [
      "2024-09-03 21:19:55.572183: I tensorflow/core/platform/cpu_feature_guard.cc:193] This TensorFlow binary is optimized with oneAPI Deep Neural Network Library (oneDNN) to use the following CPU instructions in performance-critical operations:  SSE4.1 SSE4.2 AVX AVX2 AVX512F AVX512_VNNI FMA\n",
      "To enable them in other operations, rebuild TensorFlow with the appropriate compiler flags.\n",
      "2024-09-03 21:19:55.656758: I tensorflow/core/util/port.cc:104] oneDNN custom operations are on. You may see slightly different numerical results due to floating-point round-off errors from different computation orders. To turn them off, set the environment variable `TF_ENABLE_ONEDNN_OPTS=0`.\n"
     ]
    },
    {
     "name": "stdout",
     "output_type": "stream",
     "text": [
      "Pysteps configuration file found at: /home/mizu_home/xp53/.conda/envs/wrfplot/lib/python3.8/site-packages/pysteps/pystepsrc\n",
      "\n"
     ]
    },
    {
     "data": {
      "text/plain": [
       "''"
      ]
     },
     "execution_count": 2,
     "metadata": {},
     "output_type": "execute_result"
    }
   ],
   "source": [
    "%load_ext autoreload\n",
    "%autoreload 2\n",
    "%matplotlib inline\n",
    "import matplotlib.pyplot as plt\n",
    "plt.rcParams['font.family'] = 'Myriad Pro'\n",
    "import matplotlib as mpl\n",
    "mpl.rcParams['figure.dpi'] = 600\n",
    "\n",
    "import numpy as np\n",
    "from ipcc_colormap import *\n",
    "\n",
    "import geopandas as gpd\n",
    "import cartopy.crs as crs\n",
    "from cartopy.feature import NaturalEarthFeature\n",
    "from cartopy.io.img_tiles import Stamen\n",
    "import cartopy.io.shapereader as shpreader\n",
    "import matplotlib.ticker as mticker\n",
    "from matplotlib.patches import Circle\n",
    "from matplotlib.colors import Normalize\n",
    "import matplotlib.cm as cm\n",
    "from matplotlib.colorbar import ColorbarBase\n",
    "from matplotlib import gridspec\n",
    "from utils import *\n",
    "import pysteps\n",
    "\n",
    "import pickle\n",
    "\n",
    "coastline = gpd.read_file('/home/mizu_home/xp53/nas/home/coastlines-split-SGregion/lines.shp')\n",
    "mask = np.loadtxt('mask.txt')\n",
    "\n",
    "ipcc_blue = (112.0/255, 160.0/255, 205.0/255, 1.0)\n",
    "ipcc_orange = (196.0/255, 121.0/255, 0.0/255, 1.0)\n",
    "\n",
    "tmp_cmap = ipcc_cmap()\n",
    "tmp_cmap.read_rgb_data_from_excel()\n",
    ";"
   ]
  },
  {
   "cell_type": "code",
   "execution_count": 3,
   "metadata": {},
   "outputs": [],
   "source": [
    "# DATA PREPARATION\n",
    "# the station-based rainfall data is already organized in a N by P matrix\n",
    "rain_obs = np.loadtxt('data/sta_monthly.csv')\n",
    "\n",
    "# the simulated rainfall data is reshaped to a 2d matrix of size N by (W x L)\n",
    "rain_sim_flatten = np.loadtxt('data/wrf_monthly.csv')\n",
    "rain_sim = rain_sim_flatten.reshape(rain_sim_flatten.shape[0], 120, 160)\n",
    "\n",
    "# sim_sel constains a P by 4 matrix\n",
    "# the first two columns are the row and column indices of grids corresponding to the stations\n",
    "# the last two columns are the lons and lats of grids corresponding to the stations\n",
    "sim_sel = np.loadtxt('data/wrf_loc.csv')\n",
    "sim_idx = sim_sel[:, :2].astype(int)\n",
    "\n",
    "# select simulated rainfall at stations\n",
    "wrf_sta = np.array([rain_sim[:, i, j] for (i, j) in sim_idx]).T\n",
    "\n",
    "# lats and lons of all grids are stored in a 2d matrix of 2 by (W x L)\n",
    "# the first row is lons and the second row is lats\n",
    "longlat = np.loadtxt('data/lonlat.txt')\n",
    "lons = longlat[0, :].reshape(120, 160)\n",
    "lats = longlat[1, :].reshape(120, 160)\n",
    "\n",
    "# read station lons (3rd column) and lats (4th column)\n",
    "sta_loc = np.genfromtxt('data/sta_lookup_new.csv', delimiter=',')[:, 2:]\n"
   ]
  },
  {
   "cell_type": "code",
   "execution_count": null,
   "metadata": {},
   "outputs": [],
   "source": [
    "rain2 = np.zeros((40*12, 120, 160))\n",
    "# interpolate to all grids\n",
    "gpr_ = gp_interpolator(P = sim_idx.shape[0])\n",
    "\n",
    "sg_plotter = sg_map_plotter(lons, lats, coastline)\n",
    "cmap = tmp_cmap.get_ipcc_cmap('seq', 'prec', 20)\n",
    "\n",
    "fig = plt.figure(figsize=(11, 10))\n",
    "gs = gridspec.GridSpec(4, 3, height_ratios=[1,1,1,1], bottom=0.1, top=0.95, left=0.05, right=0.95,\n",
    "                       wspace=0.05, hspace=0.05)  # Leave space at the bottom for the colorbar\n",
    "\n",
    "axes = [plt.subplot(gs[i, j], projection=crs.PlateCarree()) for i in range(4) for j in range(3)]\n",
    "\n",
    "for i, ax in enumerate(axes):\n",
    "    t1 = time.time()\n",
    "    gpr_.read_rainfall(rain_obs[i::12, :], wrf_sta[i::12, :])\n",
    "    gpr_.sn_converge()\n",
    "    tmp_mu, _ = gpr_.predict(rain_sim_flatten[i::12, :])\n",
    "    tmp_mu = tmp_mu.T\n",
    "    tmp_mu = np.reshape(tmp_mu, (40, 120, 160))\n",
    "    rain2[i::12 ,: ,:] = tmp_mu\n",
    "    sg_plotter.plot_(ax, np.mean(rain2[i::12, :, :], axis = 0), cmap = cmap, vmin = 0, vmax = 400)\n",
    "    sg_plotter.plot_scatter(ax, sta_loc, size = 15)\n",
    "    print(f'{i+1}th month: {time.time() - t1:.2f} sec, the min and max are {np.min(tmp_mu):.2f} and {np.max(tmp_mu):.2f}')\n",
    "\n",
    "# Adjust the colorbar placement\n",
    "cbar_ax = fig.add_axes([0.06, 0.07, 0.88, 0.015])  # Position: [left, bottom, width, height]\n",
    "bounds = np.linspace(0, 400, 21)\n",
    "norm = mpl.colors.BoundaryNorm(bounds, cmap.N)\n",
    "cb = ColorbarBase(cbar_ax, cmap=cmap, norm=norm, orientation='horizontal')\n",
    "cb.ax.tick_params(labelsize=12)\n",
    "# make label font larger and bold\n",
    "cb.set_label('Rainfall Climatology [mm]', fontsize=12, fontweight='bold')\n",
    "\n",
    "fig.savefig('psd_comp_figures/poster_mean_his.pdf')\n",
    "\n",
    "output = open('his_rain_interpolations.pkl', 'wb')\n",
    "pickle.dump(rain2, output)\n",
    "output.close()\n"
   ]
  },
  {
   "cell_type": "code",
   "execution_count": 4,
   "metadata": {},
   "outputs": [],
   "source": [
    "pkl_file = open('his_rain_interpolations.pkl', 'rb')\n",
    "rain_intp = pickle.load(pkl_file)"
   ]
  },
  {
   "cell_type": "code",
   "execution_count": null,
   "metadata": {},
   "outputs": [],
   "source": [
    "psd, freq = pysteps.utils.spectral.rapsd(np.mean(rain_intp, axis=0), normalize=1, return_freq=True)"
   ]
  },
  {
   "cell_type": "code",
   "execution_count": 11,
   "metadata": {},
   "outputs": [],
   "source": [
    "psd, freq = pysteps.utils.spectral.rapsd(rain_intp[0, 5:-5, 5:-5], normalize=1, return_freq=True)\n",
    "\n",
    "fig, ax = plt.subplots(nrows=4, ncols=3, figsize=(10, 12))\n",
    "# post_r_std = np.zeros((40, 12))\n",
    "# raw_r_std = np.zeros((40, 12))\n",
    "for mm in range(12):\n",
    "    psd_all = np.zeros((40, freq.shape[0]))\n",
    "    psd_all2 = np.zeros((40, freq.shape[0]))\n",
    "    \n",
    "    for i in range(40):\n",
    "        post_r = rain_intp[12*i+mm, 5:-5, 5:-5]\n",
    "        raw_r = rain_sim[12*i+mm, 5:-5, 5:-5]\n",
    "        psd = pysteps.utils.spectral.rapsd(post_r, normalize=1)\n",
    "        psd2 = pysteps.utils.spectral.rapsd(raw_r, normalize=1)\n",
    "        psd_all[i, :] = psd\n",
    "        psd_all2[i, :] = psd\n",
    "        2\n",
    "        # post_r_normalized = (post_r - np.min(post_r)) / (np.max(post_r) - np.min(post_r))\n",
    "        # raw_r_normalized = (raw_r - np.min(raw_r)) / (np.max(raw_r) - np.min(raw_r))\n",
    "        # post_r_std[i, mm] = np.std(post_r_normalized)\n",
    "        # raw_r_std[i, mm] = np.std(raw_r_normalized) \n",
    "    ax[mm//3, mm%3].plot(0.5 / freq, np.mean(psd_all, axis=0), color = ipcc_blue, label='Posterior')\n",
    "    ax[mm//3, mm%3].plot(0.5 / freq, np.mean(psd_all2, axis=0), color = ipcc_orange, label='Raw')\n",
    "    ax[mm//3, mm%3].fill_between(0.5 / freq, np.percentile(psd_all, 5, axis=0), np.percentile(psd_all, 95, axis=0), alpha=0.25, color=ipcc_blue)\n",
    "    ax[mm//3, mm%3].fill_between(0.5 / freq, np.percentile(psd_all2, 5, axis=0), np.percentile(psd_all2, 95, axis=0), alpha=0.25, color=ipcc_orange)\n",
    "    ax[mm//3, mm%3].set_xscale('log')\n",
    "    # ax[mm//3, mm%3].set_ylim(0.005, 0.03)\n",
    "    ax[mm//3, mm%3].set_title(mm+1)\n",
    "    # ax[mm//3, mm%3].legend()\n",
    "\n",
    "# fig, ax = plt.subplots()\n",
    "# ax.boxplot(post_r_std, positions = np.arange(12) - 0.1, widths = 0.15) \n",
    "# ax.boxplot(raw_r_std, positions = np.arange(12) + 0.1, widths = 0.15)\n",
    "fig.savefig('psd_comp_figures/1d_psd.png')"
   ]
  },
  {
   "cell_type": "code",
   "execution_count": 18,
   "metadata": {},
   "outputs": [
    {
     "data": {
      "text/plain": [
       "array([[0.0185297 , 0.01832552, 0.01796791, ..., 0.00938418, 0.00917701,\n",
       "        0.00859177],\n",
       "       [0.01631463, 0.01611583, 0.01584977, ..., 0.00999988, 0.00984421,\n",
       "        0.00932953],\n",
       "       [0.01645547, 0.01605464, 0.01548626, ..., 0.01047855, 0.01035922,\n",
       "        0.00983458],\n",
       "       ...,\n",
       "       [0.01587296, 0.01575676, 0.01547201, ..., 0.01191718, 0.01177577,\n",
       "        0.01141798],\n",
       "       [0.0185055 , 0.01826153, 0.01780328, ..., 0.01028131, 0.01017052,\n",
       "        0.00972609],\n",
       "       [0.01709484, 0.01703003, 0.0166806 , ..., 0.0107926 , 0.01059193,\n",
       "        0.01017333]])"
      ]
     },
     "execution_count": 18,
     "metadata": {},
     "output_type": "execute_result"
    }
   ],
   "source": [
    "psd_all"
   ]
  },
  {
   "cell_type": "code",
   "execution_count": null,
   "metadata": {},
   "outputs": [],
   "source": [
    "sg_plotter = sg_map_plotter(lons, lats, coastline)\n",
    "cmap = tmp_cmap.get_ipcc_cmap('seq', 'prec', 20)\n",
    "fig = plt.figure(figsize=(11, 10))\n",
    "gs = gridspec.GridSpec(4, 3, height_ratios=[1,1,1,1], bottom=0.1, top=0.95, left=0.05, right=0.95,\n",
    "                       wspace=0.05, hspace=0.05)  # Leave space at the bottom for the colorbar\n",
    "\n",
    "axes = [plt.subplot(gs[i, j], projection=crs.PlateCarree()) for i in range(4) for j in range(3)]\n",
    "rec_mask = np.zeros((120, 160)) \n",
    "rec_mask[10:-30, 30:-10] = 100\n",
    "sg_plotter.plot_(axes[0], rec_mask, cmap = cmap, vmin = 0, vmax = 400)\n",
    "sg_plotter.plot_scatter(axes[0], sta_loc, size = 15)"
   ]
  },
  {
   "cell_type": "code",
   "execution_count": null,
   "metadata": {},
   "outputs": [],
   "source": []
  }
 ],
 "metadata": {
  "kernelspec": {
   "display_name": "wrfplot",
   "language": "python",
   "name": "python3"
  },
  "language_info": {
   "codemirror_mode": {
    "name": "ipython",
    "version": 3
   },
   "file_extension": ".py",
   "mimetype": "text/x-python",
   "name": "python",
   "nbconvert_exporter": "python",
   "pygments_lexer": "ipython3",
   "version": "3.8.16"
  }
 },
 "nbformat": 4,
 "nbformat_minor": 2
}
